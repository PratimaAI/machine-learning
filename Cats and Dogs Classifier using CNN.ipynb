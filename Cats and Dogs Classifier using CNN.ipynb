{
 "cells": [
  {
   "cell_type": "code",
   "execution_count": 1,
   "id": "9c9a29fb",
   "metadata": {},
   "outputs": [],
   "source": [
    "import numpy as np\n",
    "import pandas as pd"
   ]
  },
  {
   "cell_type": "code",
   "execution_count": 2,
   "id": "4103283c",
   "metadata": {},
   "outputs": [
    {
     "name": "stdout",
     "output_type": "stream",
     "text": [
      "Python version: 3.10.12 | packaged by conda-forge | (main, Jun 23 2023, 22:41:52) [Clang 15.0.7 ]\n",
      "Python environment: /Users/siddharth/miniconda3/envs/tensorflow/bin/python\n"
     ]
    }
   ],
   "source": [
    "import sys\n",
    "\n",
    "print(\"Python version:\", sys.version)\n",
    "print(\"Python environment:\", sys.executable)\n"
   ]
  },
  {
   "cell_type": "code",
   "execution_count": 3,
   "id": "4581dd15",
   "metadata": {},
   "outputs": [],
   "source": [
    "import tensorflow as tf"
   ]
  },
  {
   "cell_type": "code",
   "execution_count": 4,
   "id": "4d3b9c4a",
   "metadata": {},
   "outputs": [
    {
     "name": "stdout",
     "output_type": "stream",
     "text": [
      "3.10.12 | packaged by conda-forge | (main, Jun 23 2023, 22:41:52) [Clang 15.0.7 ]\n"
     ]
    }
   ],
   "source": [
    "import sys\n",
    "print(sys.version)"
   ]
  },
  {
   "cell_type": "code",
   "execution_count": 5,
   "id": "098e4f80",
   "metadata": {},
   "outputs": [],
   "source": [
    "import tensorflow as tf"
   ]
  },
  {
   "cell_type": "code",
   "execution_count": 6,
   "id": "1b2b857c",
   "metadata": {},
   "outputs": [],
   "source": [
    "from keras.preprocessing.image import ImageDataGenerator, load_img"
   ]
  },
  {
   "cell_type": "code",
   "execution_count": 7,
   "id": "73ad5228",
   "metadata": {},
   "outputs": [],
   "source": [
    "import tensorflow as tf\n",
    "from tensorflow.keras.utils import to_categorical"
   ]
  },
  {
   "cell_type": "code",
   "execution_count": 8,
   "id": "ea603048",
   "metadata": {},
   "outputs": [],
   "source": [
    "from sklearn.model_selection import train_test_split"
   ]
  },
  {
   "cell_type": "code",
   "execution_count": 9,
   "id": "abcc09b8",
   "metadata": {},
   "outputs": [],
   "source": [
    "import matplotlib.pyplot as plt\n",
    "import random\n",
    "import os\n",
    "from keras.models import Sequential\n",
    "from keras.layers import Conv2D, MaxPooling2D, Dropout, Flatten, Dense, Activation, BatchNormalization\n",
    "from keras.callbacks import EarlyStopping, ReduceLROnPlateau\n"
   ]
  },
  {
   "cell_type": "code",
   "execution_count": 10,
   "id": "cee6834d",
   "metadata": {},
   "outputs": [],
   "source": [
    "import cv2"
   ]
  },
  {
   "cell_type": "code",
   "execution_count": 11,
   "id": "19a87fff",
   "metadata": {},
   "outputs": [],
   "source": [
    "IMAGE_WIDTH=128\n",
    "IMAGE_HEIGHT=128\n",
    "IMAGE_SIZE=(IMAGE_WIDTH, IMAGE_HEIGHT)\n",
    "IMAGE_CHANNELS=3"
   ]
  },
  {
   "cell_type": "code",
   "execution_count": 12,
   "id": "48fb30ea",
   "metadata": {},
   "outputs": [],
   "source": [
    "import os"
   ]
  },
  {
   "cell_type": "code",
   "execution_count": 13,
   "id": "11fd85a6",
   "metadata": {},
   "outputs": [],
   "source": [
    "filenames = os.listdir(\"/Users/siddharth/Library/CloudStorage/GoogleDrive-pratimakumari2305@gmail.com/My Drive/OneDrive - OsloMet/OsloMet/MY PYTHON/Machine_Learning_Practice_2023/MachineLearning/train\")\n",
    "categories = []\n",
    "for filename in filenames:\n",
    "    category = filename.split('_')[0]\n",
    "    if category == 'dog':\n",
    "        categories.append(1)\n",
    "    else:\n",
    "        categories.append(0)\n",
    "\n",
    "df = pd.DataFrame({\n",
    "    'filename': filenames,\n",
    "    'category': categories\n",
    "})"
   ]
  },
  {
   "cell_type": "code",
   "execution_count": 14,
   "id": "4e6941e5",
   "metadata": {},
   "outputs": [
    {
     "data": {
      "text/html": [
       "<div>\n",
       "<style scoped>\n",
       "    .dataframe tbody tr th:only-of-type {\n",
       "        vertical-align: middle;\n",
       "    }\n",
       "\n",
       "    .dataframe tbody tr th {\n",
       "        vertical-align: top;\n",
       "    }\n",
       "\n",
       "    .dataframe thead th {\n",
       "        text-align: right;\n",
       "    }\n",
       "</style>\n",
       "<table border=\"1\" class=\"dataframe\">\n",
       "  <thead>\n",
       "    <tr style=\"text-align: right;\">\n",
       "      <th></th>\n",
       "      <th>filename</th>\n",
       "      <th>category</th>\n",
       "    </tr>\n",
       "  </thead>\n",
       "  <tbody>\n",
       "    <tr>\n",
       "      <th>0</th>\n",
       "      <td>cat_386.jpg</td>\n",
       "      <td>0</td>\n",
       "    </tr>\n",
       "    <tr>\n",
       "      <th>1</th>\n",
       "      <td>cat_15.jpg</td>\n",
       "      <td>0</td>\n",
       "    </tr>\n",
       "    <tr>\n",
       "      <th>2</th>\n",
       "      <td>dog_423.jpg</td>\n",
       "      <td>1</td>\n",
       "    </tr>\n",
       "    <tr>\n",
       "      <th>3</th>\n",
       "      <td>dog_345.jpg</td>\n",
       "      <td>1</td>\n",
       "    </tr>\n",
       "    <tr>\n",
       "      <th>4</th>\n",
       "      <td>dog_351.jpg</td>\n",
       "      <td>1</td>\n",
       "    </tr>\n",
       "  </tbody>\n",
       "</table>\n",
       "</div>"
      ],
      "text/plain": [
       "      filename  category\n",
       "0  cat_386.jpg         0\n",
       "1   cat_15.jpg         0\n",
       "2  dog_423.jpg         1\n",
       "3  dog_345.jpg         1\n",
       "4  dog_351.jpg         1"
      ]
     },
     "execution_count": 14,
     "metadata": {},
     "output_type": "execute_result"
    }
   ],
   "source": [
    "df.head()"
   ]
  },
  {
   "cell_type": "code",
   "execution_count": 15,
   "id": "6f8df4ff",
   "metadata": {},
   "outputs": [
    {
     "data": {
      "text/html": [
       "<div>\n",
       "<style scoped>\n",
       "    .dataframe tbody tr th:only-of-type {\n",
       "        vertical-align: middle;\n",
       "    }\n",
       "\n",
       "    .dataframe tbody tr th {\n",
       "        vertical-align: top;\n",
       "    }\n",
       "\n",
       "    .dataframe thead th {\n",
       "        text-align: right;\n",
       "    }\n",
       "</style>\n",
       "<table border=\"1\" class=\"dataframe\">\n",
       "  <thead>\n",
       "    <tr style=\"text-align: right;\">\n",
       "      <th></th>\n",
       "      <th>filename</th>\n",
       "      <th>category</th>\n",
       "    </tr>\n",
       "  </thead>\n",
       "  <tbody>\n",
       "    <tr>\n",
       "      <th>553</th>\n",
       "      <td>dog_162.jpg</td>\n",
       "      <td>1</td>\n",
       "    </tr>\n",
       "    <tr>\n",
       "      <th>554</th>\n",
       "      <td>cat_348.jpg</td>\n",
       "      <td>0</td>\n",
       "    </tr>\n",
       "    <tr>\n",
       "      <th>555</th>\n",
       "      <td>dog_22.jpg</td>\n",
       "      <td>1</td>\n",
       "    </tr>\n",
       "    <tr>\n",
       "      <th>556</th>\n",
       "      <td>cat_24.jpg</td>\n",
       "      <td>0</td>\n",
       "    </tr>\n",
       "    <tr>\n",
       "      <th>557</th>\n",
       "      <td>dog_412.jpg</td>\n",
       "      <td>1</td>\n",
       "    </tr>\n",
       "  </tbody>\n",
       "</table>\n",
       "</div>"
      ],
      "text/plain": [
       "        filename  category\n",
       "553  dog_162.jpg         1\n",
       "554  cat_348.jpg         0\n",
       "555   dog_22.jpg         1\n",
       "556   cat_24.jpg         0\n",
       "557  dog_412.jpg         1"
      ]
     },
     "execution_count": 15,
     "metadata": {},
     "output_type": "execute_result"
    }
   ],
   "source": [
    "df.tail()"
   ]
  },
  {
   "cell_type": "code",
   "execution_count": 16,
   "id": "447724ac",
   "metadata": {},
   "outputs": [
    {
     "data": {
      "text/plain": [
       "<Axes: xlabel='category'>"
      ]
     },
     "execution_count": 16,
     "metadata": {},
     "output_type": "execute_result"
    },
    {
     "data": {
      "image/png": "[encoded data removed]",
      "text/plain": [
       "<Figure size 640x480 with 1 Axes>"
      ]
     },
     "metadata": {},
     "output_type": "display_data"
    }
   ],
   "source": [
    "df['category'].value_counts().plot.bar()"
   ]
  },
  {
   "cell_type": "code",
   "execution_count": 17,
   "id": "2a5edb99",
   "metadata": {},
   "outputs": [
    {
     "name": "stderr",
     "output_type": "stream",
     "text": [
      "2023-08-01 17:28:37.628236: I metal_plugin/src/device/metal_device.cc:1154] Metal device set to: Apple M1\n",
      "2023-08-01 17:28:37.628253: I metal_plugin/src/device/metal_device.cc:296] systemMemory: 8.00 GB\n",
      "2023-08-01 17:28:37.628256: I metal_plugin/src/device/metal_device.cc:313] maxCacheSize: 2.67 GB\n",
      "2023-08-01 17:28:37.628284: I tensorflow/core/common_runtime/pluggable_device/pluggable_device_factory.cc:303] Could not identify NUMA node of platform GPU ID 0, defaulting to 0. Your kernel may not have been built with NUMA support.\n",
      "2023-08-01 17:28:37.628295: I tensorflow/core/common_runtime/pluggable_device/pluggable_device_factory.cc:269] Created TensorFlow device (/job:localhost/replica:0/task:0/device:GPU:0 with 0 MB memory) -> physical PluggableDevice (device: 0, name: METAL, pci bus id: <undefined>)\n"
     ]
    }
   ],
   "source": [
    "model= Sequential()"
   ]
  },
  {
   "cell_type": "code",
   "execution_count": 18,
   "id": "c9eb9893",
   "metadata": {},
   "outputs": [
    {
     "name": "stdout",
     "output_type": "stream",
     "text": [
      "Model: \"sequential\"\n",
      "_________________________________________________________________\n",
      " Layer (type)                Output Shape              Param #   \n",
      "=================================================================\n",
      " conv2d (Conv2D)             (None, 126, 126, 32)      896       \n",
      "                                                                 \n",
      " batch_normalization (Batch  (None, 126, 126, 32)      128       \n",
      " Normalization)                                                  \n",
      "                                                                 \n",
      " max_pooling2d (MaxPooling2  (None, 63, 63, 32)        0         \n",
      " D)                                                              \n",
      "                                                                 \n",
      " dropout (Dropout)           (None, 63, 63, 32)        0         \n",
      "                                                                 \n",
      " conv2d_1 (Conv2D)           (None, 61, 61, 64)        18496     \n",
      "                                                                 \n",
      " batch_normalization_1 (Bat  (None, 61, 61, 64)        256       \n",
      " chNormalization)                                                \n",
      "                                                                 \n",
      " max_pooling2d_1 (MaxPoolin  (None, 30, 30, 64)        0         \n",
      " g2D)                                                            \n",
      "                                                                 \n",
      " dropout_1 (Dropout)         (None, 30, 30, 64)        0         \n",
      "                                                                 \n",
      " conv2d_2 (Conv2D)           (None, 28, 28, 128)       73856     \n",
      "                                                                 \n",
      " batch_normalization_2 (Bat  (None, 28, 28, 128)       512       \n",
      " chNormalization)                                                \n",
      "                                                                 \n",
      " max_pooling2d_2 (MaxPoolin  (None, 14, 14, 128)       0         \n",
      " g2D)                                                            \n",
      "                                                                 \n",
      " dropout_2 (Dropout)         (None, 14, 14, 128)       0         \n",
      "                                                                 \n",
      " flatten (Flatten)           (None, 25088)             0         \n",
      "                                                                 \n",
      " dense (Dense)               (None, 512)               12845568  \n",
      "                                                                 \n",
      " batch_normalization_3 (Bat  (None, 512)               2048      \n",
      " chNormalization)                                                \n",
      "                                                                 \n",
      " dropout_3 (Dropout)         (None, 512)               0         \n",
      "                                                                 \n",
      " dense_1 (Dense)             (None, 2)                 1026      \n",
      "                                                                 \n",
      "=================================================================\n",
      "Total params: 12942786 (49.37 MB)\n",
      "Trainable params: 12941314 (49.37 MB)\n",
      "Non-trainable params: 1472 (5.75 KB)\n",
      "_________________________________________________________________\n"
     ]
    }
   ],
   "source": [
    "model.add(Conv2D(32, (3, 3), activation='relu', input_shape=(IMAGE_WIDTH, IMAGE_HEIGHT, IMAGE_CHANNELS)))\n",
    "model.add(BatchNormalization())\n",
    "model.add(MaxPooling2D(pool_size=(2, 2)))\n",
    "model.add(Dropout(0.25))\n",
    "\n",
    "model.add(Conv2D(64, (3, 3), activation='relu'))\n",
    "model.add(BatchNormalization())\n",
    "model.add(MaxPooling2D(pool_size=(2, 2)))\n",
    "model.add(Dropout(0.25))\n",
    "model.add(Conv2D(128, (3, 3), activation='relu'))\n",
    "model.add(BatchNormalization())\n",
    "model.add(MaxPooling2D(pool_size=(2, 2)))\n",
    "model.add(Dropout(0.25))\n",
    "model.add(Flatten())\n",
    "model.add(Dense(512, activation='relu'))\n",
    "model.add(BatchNormalization())\n",
    "model.add(Dropout(0.5))\n",
    "model.add(Dense(2, activation='softmax')) # 2 because we have cat and dog classes\n",
    "model.compile(loss='categorical_crossentropy', optimizer='rmsprop', metrics=['accuracy'])\n",
    "model.summary()"
   ]
  },
  {
   "cell_type": "code",
   "execution_count": 19,
   "id": "b95cc4fd",
   "metadata": {},
   "outputs": [],
   "source": [
    "earlystop = EarlyStopping(patience=10)\n",
    "learning_rate_reduction = ReduceLROnPlateau(monitor='val_accuracy', \n",
    "                                            patience=2, \n",
    "                                            verbose=1, \n",
    "                                            factor=0.5, \n",
    "                                            min_lr=0.00001)\n",
    "callbacks = [earlystop, learning_rate_reduction]"
   ]
  },
  {
   "cell_type": "code",
   "execution_count": 20,
   "id": "e2e1429c",
   "metadata": {},
   "outputs": [],
   "source": [
    "df[\"category\"] = df[\"category\"].replace({0: 'cat', 1: 'dog'}) "
   ]
  },
  {
   "cell_type": "code",
   "execution_count": 21,
   "id": "3a055f4f",
   "metadata": {},
   "outputs": [],
   "source": [
    "train_df, validate_df = train_test_split(df, test_size=0.20, random_state=42)\n",
    "\n",
    "train_df = train_df.reset_index(drop=True)\n",
    "validate_df = validate_df.reset_index(drop=True)"
   ]
  },
  {
   "cell_type": "code",
   "execution_count": 22,
   "id": "4cb71e8e",
   "metadata": {},
   "outputs": [
    {
     "data": {
      "text/plain": [
       "<Axes: xlabel='category'>"
      ]
     },
     "execution_count": 22,
     "metadata": {},
     "output_type": "execute_result"
    },
    {
     "data": {
      "image/png": "[encoded data removed]",
      "text/plain": [
       "<Figure size 640x480 with 1 Axes>"
      ]
     },
     "metadata": {},
     "output_type": "display_data"
    }
   ],
   "source": [
    "train_df['category'].value_counts().plot.bar()"
   ]
  },
  {
   "cell_type": "code",
   "execution_count": 23,
   "id": "6839e0b9",
   "metadata": {},
   "outputs": [
    {
     "data": {
      "text/plain": [
       "<Axes: xlabel='category'>"
      ]
     },
     "execution_count": 23,
     "metadata": {},
     "output_type": "execute_result"
    },
    {
     "data": {
      "image/png": "[encoded data removed]",
      "text/plain": [
       "<Figure size 640x480 with 1 Axes>"
      ]
     },
     "metadata": {},
     "output_type": "display_data"
    }
   ],
   "source": [
    "validate_df['category'].value_counts().plot.bar()"
   ]
  },
  {
   "cell_type": "code",
   "execution_count": 24,
   "id": "0f3e85a3",
   "metadata": {},
   "outputs": [],
   "source": [
    "total_train = train_df.shape[0]\n",
    "total_validate = validate_df.shape[0]\n",
    "batch_size=15"
   ]
  },
  {
   "cell_type": "code",
   "execution_count": 25,
   "id": "51993bd7",
   "metadata": {},
   "outputs": [
    {
     "name": "stdout",
     "output_type": "stream",
     "text": [
      "Found 445 validated image filenames belonging to 2 classes.\n"
     ]
    },
    {
     "name": "stderr",
     "output_type": "stream",
     "text": [
      "/Users/siddharth/miniconda3/envs/tensorflow/lib/python3.10/site-packages/keras/src/preprocessing/image.py:1137: UserWarning: Found 1 invalid image filename(s) in x_col=\"filename\". These filename(s) will be ignored.\n",
      "  warnings.warn(\n"
     ]
    }
   ],
   "source": [
    "train_datagen = ImageDataGenerator(\n",
    "    rotation_range=15,\n",
    "    rescale=1./255,\n",
    "    shear_range=0.1,\n",
    "    zoom_range=0.2,\n",
    "    horizontal_flip=True,\n",
    "    width_shift_range=0.1,\n",
    "    height_shift_range=0.1\n",
    ")\n",
    "\n",
    "train_generator = train_datagen.flow_from_dataframe(\n",
    "    train_df, \n",
    "    \"train/\", \n",
    "    x_col='filename',\n",
    "    y_col='category',\n",
    "    target_size=IMAGE_SIZE,\n",
    "    class_mode='categorical',\n",
    "    batch_size=batch_size\n",
    ")"
   ]
  },
  {
   "cell_type": "code",
   "execution_count": 26,
   "id": "8b43fc94",
   "metadata": {},
   "outputs": [
    {
     "name": "stdout",
     "output_type": "stream",
     "text": [
      "Found 112 validated image filenames belonging to 2 classes.\n"
     ]
    }
   ],
   "source": [
    "validation_datagen = ImageDataGenerator(rescale=1./255)\n",
    "\n",
    "validation_generator = validation_datagen.flow_from_dataframe(\n",
    "    validate_df, \n",
    "    \"train/\", \n",
    "    x_col='filename',\n",
    "    y_col='category',\n",
    "    target_size=IMAGE_SIZE,\n",
    "    class_mode='categorical',\n",
    "    batch_size=batch_size\n",
    ")"
   ]
  },
  {
   "cell_type": "code",
   "execution_count": null,
   "id": "1e935a37",
   "metadata": {},
   "outputs": [
    {
     "name": "stdout",
     "output_type": "stream",
     "text": [
      "Found 1 validated image filenames belonging to 1 classes.\n"
     ]
    }
   ],
   "source": [
    "example_df = train_df.sample(n=1).reset_index(drop=True)\n",
    "\n",
    "example_generator = train_datagen.flow_from_dataframe(\n",
    "    example_df, \n",
    "    \"train/\", \n",
    "    x_col='filename',\n",
    "    y_col='category',\n",
    "    target_size=IMAGE_SIZE,\n",
    "    class_mode='categorical'\n",
    ")\n",
    "\n",
    "plt.figure(figsize=(12, 12))\n",
    "for i in range(0, 15):\n",
    "    plt.subplot(5, 3, i+1)\n",
    "    for X_batch, Y_batch in example_generator:\n",
    "        image = X_batch[0]\n",
    "        plt.imshow(image)\n",
    "        break\n",
    "plt.tight_layout()\n",
    "plt.show()"
   ]
  },
  {
   "cell_type": "code",
   "execution_count": 28,
   "id": "beb75174",
   "metadata": {},
   "outputs": [
    {
     "name": "stdout",
     "output_type": "stream",
     "text": [
      "Epoch 1/50\n"
     ]
    },
    {
     "name": "stderr",
     "output_type": "stream",
     "text": [
      "/var/folders/fr/p253sg2536gclcy0s7m_d7940000gn/T/ipykernel_29194/2098705055.py:2: UserWarning: `Model.fit_generator` is deprecated and will be removed in a future version. Please use `Model.fit`, which supports generators.\n",
      "  history = model.fit_generator(\n",
      "2023-08-01 17:28:39.240265: I tensorflow/core/grappler/optimizers/custom_graph_optimizer_registry.cc:114] Plugin optimizer for device_type GPU is enabled.\n"
     ]
    },
    {
     "name": "stdout",
     "output_type": "stream",
     "text": [
      "29/29 [==============================] - ETA: 0s - loss: 2.2517 - accuracy: 0.5581"
     ]
    },
    {
     "name": "stderr",
     "output_type": "stream",
     "text": [
      "2023-08-01 17:28:42.001650: I tensorflow/core/grappler/optimizers/custom_graph_optimizer_registry.cc:114] Plugin optimizer for device_type GPU is enabled.\n"
     ]
    },
    {
     "name": "stdout",
     "output_type": "stream",
     "text": [
      "29/29 [==============================] - 3s 87ms/step - loss: 2.2517 - accuracy: 0.5581 - val_loss: 0.7551 - val_accuracy: 0.4952 - lr: 0.0010\n",
      "Epoch 2/50\n",
      "29/29 [==============================] - 2s 74ms/step - loss: 1.1648 - accuracy: 0.5395 - val_loss: 1.0510 - val_accuracy: 0.5238 - lr: 0.0010\n",
      "Epoch 3/50\n",
      "29/29 [==============================] - 2s 73ms/step - loss: 1.0537 - accuracy: 0.5581 - val_loss: 0.7104 - val_accuracy: 0.5143 - lr: 0.0010\n",
      "Epoch 4/50\n",
      "29/29 [==============================] - 2s 73ms/step - loss: 0.9527 - accuracy: 0.5651 - val_loss: 0.8817 - val_accuracy: 0.5333 - lr: 0.0010\n",
      "Epoch 5/50\n",
      "29/29 [==============================] - 2s 74ms/step - loss: 0.9069 - accuracy: 0.5535 - val_loss: 0.9765 - val_accuracy: 0.5143 - lr: 0.0010\n",
      "Epoch 6/50\n",
      "29/29 [==============================] - 2s 73ms/step - loss: 0.8864 - accuracy: 0.5535 - val_loss: 0.6845 - val_accuracy: 0.5619 - lr: 0.0010\n",
      "Epoch 7/50\n",
      "29/29 [==============================] - 2s 74ms/step - loss: 0.8336 - accuracy: 0.5558 - val_loss: 0.8698 - val_accuracy: 0.5429 - lr: 0.0010\n",
      "Epoch 8/50\n",
      "29/29 [==============================] - ETA: 0s - loss: 0.7821 - accuracy: 0.6163\n",
      "Epoch 8: ReduceLROnPlateau reducing learning rate to 0.0005000000237487257.\n",
      "29/29 [==============================] - 2s 72ms/step - loss: 0.7821 - accuracy: 0.6163 - val_loss: 1.0393 - val_accuracy: 0.5048 - lr: 0.0010\n",
      "Epoch 9/50\n",
      "29/29 [==============================] - 2s 72ms/step - loss: 0.7456 - accuracy: 0.6070 - val_loss: 0.7991 - val_accuracy: 0.5333 - lr: 5.0000e-04\n",
      "Epoch 10/50\n",
      "29/29 [==============================] - 2s 73ms/step - loss: 0.6781 - accuracy: 0.6698 - val_loss: 0.7381 - val_accuracy: 0.5810 - lr: 5.0000e-04\n",
      "Epoch 11/50\n",
      "29/29 [==============================] - 2s 78ms/step - loss: 0.6899 - accuracy: 0.6465 - val_loss: 0.7952 - val_accuracy: 0.5429 - lr: 5.0000e-04\n",
      "Epoch 12/50\n",
      "29/29 [==============================] - 2s 74ms/step - loss: 0.6978 - accuracy: 0.6233 - val_loss: 0.6710 - val_accuracy: 0.6000 - lr: 5.0000e-04\n",
      "Epoch 13/50\n",
      "29/29 [==============================] - 2s 73ms/step - loss: 0.6700 - accuracy: 0.6419 - val_loss: 0.8244 - val_accuracy: 0.5524 - lr: 5.0000e-04\n",
      "Epoch 14/50\n",
      "29/29 [==============================] - 2s 73ms/step - loss: 0.6242 - accuracy: 0.6744 - val_loss: 0.6761 - val_accuracy: 0.6095 - lr: 5.0000e-04\n",
      "Epoch 15/50\n",
      "29/29 [==============================] - 2s 74ms/step - loss: 0.6647 - accuracy: 0.6512 - val_loss: 0.7156 - val_accuracy: 0.5905 - lr: 5.0000e-04\n",
      "Epoch 16/50\n",
      "29/29 [==============================] - ETA: 0s - loss: 0.6275 - accuracy: 0.6667\n",
      "Epoch 16: ReduceLROnPlateau reducing learning rate to 0.0002500000118743628.\n",
      "29/29 [==============================] - 2s 76ms/step - loss: 0.6275 - accuracy: 0.6667 - val_loss: 0.7231 - val_accuracy: 0.5810 - lr: 5.0000e-04\n",
      "Epoch 17/50\n",
      "29/29 [==============================] - 2s 73ms/step - loss: 0.5639 - accuracy: 0.7279 - val_loss: 0.7913 - val_accuracy: 0.5905 - lr: 2.5000e-04\n",
      "Epoch 18/50\n",
      "29/29 [==============================] - 2s 74ms/step - loss: 0.6089 - accuracy: 0.6651 - val_loss: 0.7067 - val_accuracy: 0.6190 - lr: 2.5000e-04\n",
      "Epoch 19/50\n",
      "29/29 [==============================] - 2s 74ms/step - loss: 0.5817 - accuracy: 0.7093 - val_loss: 0.6081 - val_accuracy: 0.6476 - lr: 2.5000e-04\n",
      "Epoch 20/50\n",
      "29/29 [==============================] - 2s 73ms/step - loss: 0.5995 - accuracy: 0.6698 - val_loss: 0.5682 - val_accuracy: 0.6667 - lr: 2.5000e-04\n",
      "Epoch 21/50\n",
      "29/29 [==============================] - 2s 76ms/step - loss: 0.5627 - accuracy: 0.7279 - val_loss: 0.5772 - val_accuracy: 0.6952 - lr: 2.5000e-04\n",
      "Epoch 22/50\n",
      "29/29 [==============================] - 2s 74ms/step - loss: 0.5596 - accuracy: 0.7186 - val_loss: 0.5856 - val_accuracy: 0.6667 - lr: 2.5000e-04\n",
      "Epoch 23/50\n",
      "29/29 [==============================] - ETA: 0s - loss: 0.5503 - accuracy: 0.7070\n",
      "Epoch 23: ReduceLROnPlateau reducing learning rate to 0.0001250000059371814.\n",
      "29/29 [==============================] - 2s 74ms/step - loss: 0.5503 - accuracy: 0.7070 - val_loss: 0.7668 - val_accuracy: 0.6000 - lr: 2.5000e-04\n",
      "Epoch 24/50\n",
      "29/29 [==============================] - 2s 73ms/step - loss: 0.5769 - accuracy: 0.6884 - val_loss: 0.5755 - val_accuracy: 0.6762 - lr: 1.2500e-04\n",
      "Epoch 25/50\n",
      "29/29 [==============================] - ETA: 0s - loss: 0.5616 - accuracy: 0.7070\n",
      "Epoch 25: ReduceLROnPlateau reducing learning rate to 6.25000029685907e-05.\n",
      "29/29 [==============================] - 2s 75ms/step - loss: 0.5616 - accuracy: 0.7070 - val_loss: 0.5832 - val_accuracy: 0.6762 - lr: 1.2500e-04\n",
      "Epoch 26/50\n",
      "29/29 [==============================] - 2s 73ms/step - loss: 0.5506 - accuracy: 0.7116 - val_loss: 0.5731 - val_accuracy: 0.6857 - lr: 6.2500e-05\n",
      "Epoch 27/50\n",
      "29/29 [==============================] - ETA: 0s - loss: 0.5350 - accuracy: 0.7581\n",
      "Epoch 27: ReduceLROnPlateau reducing learning rate to 3.125000148429535e-05.\n",
      "29/29 [==============================] - 2s 73ms/step - loss: 0.5350 - accuracy: 0.7581 - val_loss: 0.5763 - val_accuracy: 0.6667 - lr: 6.2500e-05\n",
      "Epoch 28/50\n",
      "29/29 [==============================] - 2s 73ms/step - loss: 0.5632 - accuracy: 0.7419 - val_loss: 0.6050 - val_accuracy: 0.6667 - lr: 3.1250e-05\n",
      "Epoch 29/50\n",
      "29/29 [==============================] - ETA: 0s - loss: 0.5341 - accuracy: 0.7070\n",
      "Epoch 29: ReduceLROnPlateau reducing learning rate to 1.5625000742147677e-05.\n",
      "29/29 [==============================] - 2s 74ms/step - loss: 0.5341 - accuracy: 0.7070 - val_loss: 0.6472 - val_accuracy: 0.6476 - lr: 3.1250e-05\n",
      "Epoch 30/50\n",
      "29/29 [==============================] - 2s 73ms/step - loss: 0.5261 - accuracy: 0.7535 - val_loss: 0.6604 - val_accuracy: 0.6476 - lr: 1.5625e-05\n"
     ]
    },
    {
     "name": "stderr",
     "output_type": "stream",
     "text": [
      "/Users/siddharth/miniconda3/envs/tensorflow/lib/python3.10/site-packages/keras/src/engine/training.py:3000: UserWarning: You are saving your model as an HDF5 file via `model.save()`. This file format is considered legacy. We recommend using instead the native Keras format, e.g. `model.save('my_model.keras')`.\n",
      "  saving_api.save_model(\n"
     ]
    }
   ],
   "source": [
    "epochs = 50\n",
    "history = model.fit_generator(\n",
    "    train_generator, \n",
    "    epochs=epochs,\n",
    "    validation_data=validation_generator,\n",
    "    validation_steps=total_validate//batch_size,\n",
    "    steps_per_epoch=total_train//batch_size,\n",
    "    callbacks=callbacks\n",
    ")\n",
    "model.save(\"model.h5\")"
   ]
  },
  {
   "cell_type": "code",
   "execution_count": 29,
   "id": "12565b7b",
   "metadata": {},
   "outputs": [
    {
     "data": {
      "image/png": "[encoded data removed]",
      "text/plain": [
       "<Figure size 1200x600 with 2 Axes>"
      ]
     },
     "metadata": {},
     "output_type": "display_data"
    }
   ],
   "source": [
    "fig, (ax1, ax2) = plt.subplots(1, 2, figsize=(12, 6))\n",
    "ax1.plot(history.history['loss'], color='b', label=\"Training loss\")\n",
    "ax1.plot(history.history['val_loss'], color='r', label=\"validation loss\")\n",
    "ax1.set_xticks(np.arange(1, epochs, 1))\n",
    "ax1.set_yticks(np.arange(0, 1, 0.1))\n",
    "\n",
    "ax2.plot(history.history['accuracy'], color='b', label=\"Training accuracy\")\n",
    "ax2.plot(history.history['val_accuracy'], color='r',label=\"Validation accuracy\")\n",
    "ax2.set_xticks(np.arange(1, epochs, 1))\n",
    "\n",
    "legend = plt.legend(loc='best', shadow=True)\n",
    "plt.tight_layout()\n",
    "plt.show()"
   ]
  },
  {
   "cell_type": "code",
   "execution_count": 32,
   "id": "2a7efd2c",
   "metadata": {},
   "outputs": [
    {
     "name": "stdout",
     "output_type": "stream",
     "text": [
      "1/1 [==============================] - 0s 19ms/step\n",
      "cat\n",
      "1/1 [==============================] - 0s 22ms/step\n",
      "cat\n",
      "1/1 [==============================] - 0s 19ms/step\n",
      "cat\n",
      "1/1 [==============================] - 0s 18ms/step\n",
      "cat\n",
      "1/1 [==============================] - 0s 18ms/step\n",
      "cat\n",
      "1/1 [==============================] - 0s 15ms/step\n",
      "cat\n",
      "1/1 [==============================] - 0s 18ms/step\n",
      "cat\n",
      "1/1 [==============================] - 0s 17ms/step\n",
      "cat\n",
      "1/1 [==============================] - 0s 18ms/step\n",
      "cat\n",
      "1/1 [==============================] - 0s 17ms/step\n",
      "cat\n"
     ]
    }
   ],
   "source": [
    "path = \"/Users/siddharth/Library/CloudStorage/GoogleDrive-pratimakumari2305@gmail.com/My Drive/OneDrive - OsloMet/OsloMet/MY PYTHON/Machine_Learning_Practice_2023/MachineLearning/test\"\n",
    "for i in range(10):\n",
    "    \n",
    "    all_test_images = os.listdir(path)\n",
    "    random_image = random.choice(all_test_images)\n",
    "    img = cv2.imread(os.path.join(path, random_image))\n",
    "    img = cv2.resize(img,(IMAGE_HEIGHT,IMAGE_WIDTH))\n",
    "    \n",
    "    org = img.copy()\n",
    "    img = img.reshape(1,128,128,3)\n",
    "    \n",
    "    pred = model.predict(img)\n",
    "    print(['cat','dog'][int(pred[0][0])])\n",
    "    cv2.imshow('Live predictions',org)\n",
    "    cv2.waitKey(1000)\n",
    "cv2.destroyAllWindows()"
   ]
  },
  {
   "cell_type": "code",
   "execution_count": null,
   "id": "eef24f82",
   "metadata": {},
   "outputs": [],
   "source": []
  }
 ],
 "metadata": {
  "kernelspec": {
   "display_name": "Python 3.10 (tensorflow)",
   "language": "python",
   "name": "tensorflow"
  },
  "language_info": {
   "codemirror_mode": {
    "name": "ipython",
    "version": 3
   },
   "file_extension": ".py",
   "mimetype": "text/x-python",
   "name": "python",
   "nbconvert_exporter": "python",
   "pygments_lexer": "ipython3",
   "version": "3.10.12"
  }
 },
 "nbformat": 4,
 "nbformat_minor": 5
}
