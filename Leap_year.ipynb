{
 "cells": [
  {
   "cell_type": "code",
   "execution_count": 12,
   "id": "d7ce522f",
   "metadata": {},
   "outputs": [
    {
     "name": "stdout",
     "output_type": "stream",
     "text": [
      "Enter the year : 2000\n",
      "leap year\n"
     ]
    }
   ],
   "source": [
    "#Method 1\n",
    "year=int(input('Enter the year : '))\n",
    "if year%4 == 0 and year %400==0 :\n",
    "    print ('leap year')\n",
    "elif year %100==0:\n",
    "    print ('no leap year')\n",
    "else:\n",
    "    print ('no leap year')"
   ]
  },
  {
   "cell_type": "code",
   "execution_count": 13,
   "id": "e805e72f",
   "metadata": {},
   "outputs": [
    {
     "name": "stdout",
     "output_type": "stream",
     "text": [
      "Enter the year : 2100\n",
      "Not Leap year\n"
     ]
    }
   ],
   "source": [
    "#Method 2\n",
    "year=int(input('Enter the year : '))\n",
    "if year%4 == 0:\n",
    "    if year %100==0:\n",
    "        if year %400==0:\n",
    "            print('Leap year')\n",
    "        else:\n",
    "            print('Not Leap year')\n",
    "    else:\n",
    "        print('Leap year')\n",
    "else:\n",
    "    print('Not Leap year')\n",
    "        "
   ]
  },
  {
   "cell_type": "code",
   "execution_count": null,
   "id": "0fa1182b",
   "metadata": {},
   "outputs": [],
   "source": []
  }
 ],
 "metadata": {
  "kernelspec": {
   "display_name": "Python 3 (ipykernel)",
   "language": "python",
   "name": "python3"
  },
  "language_info": {
   "codemirror_mode": {
    "name": "ipython",
    "version": 3
   },
   "file_extension": ".py",
   "mimetype": "text/x-python",
   "name": "python",
   "nbconvert_exporter": "python",
   "pygments_lexer": "ipython3",
   "version": "3.9.16"
  }
 },
 "nbformat": 4,
 "nbformat_minor": 5
}
